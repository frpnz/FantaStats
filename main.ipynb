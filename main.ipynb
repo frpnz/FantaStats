{
 "cells": [
  {
   "cell_type": "markdown",
   "id": "c116c647-3ee6-4f65-8bf6-0f04314270c4",
   "metadata": {},
   "source": [
    "# Import"
   ]
  },
  {
   "cell_type": "code",
   "execution_count": 1,
   "id": "da89640b-3198-4c83-807f-5df05f371746",
   "metadata": {},
   "outputs": [],
   "source": [
    "import glob\n",
    "import numpy as np\n",
    "import pandas as pd\n",
    "import sklearn.cluster\n",
    "import sklearn.preprocessing\n",
    "import sklearn.decomposition\n",
    "import matplotlib.pyplot as plt"
   ]
  },
  {
   "cell_type": "markdown",
   "id": "b87a20c1-dff9-4e5a-b53b-9f9b2c0c8953",
   "metadata": {},
   "source": [
    "# Settings"
   ]
  },
  {
   "cell_type": "code",
   "execution_count": 2,
   "id": "5693cfce-0a99-4e7a-964d-b6d50d3b2bee",
   "metadata": {},
   "outputs": [],
   "source": [
    "mod = \"P\"\n",
    "presenze = 10\n",
    "# years = [\"2022_23\", \"2023_24\", \"2024_25\"]\n",
    "years = [\"2023_24\", \"2024_25\"]\n",
    "# years = [\"2023_24\"]\n",
    "filepaths = list()\n",
    "for year in years:\n",
    "    filepaths += glob.glob(f\"./data/*{year}*.xlsx\") "
   ]
  },
  {
   "cell_type": "code",
   "execution_count": 3,
   "id": "c8fca78d-9be8-4b26-8730-4652eec15f03",
   "metadata": {},
   "outputs": [
    {
     "data": {
      "text/plain": [
       "['./data/Statistiche_Fantacalcio_Stagione_2023_24.xlsx',\n",
       " './data/Statistiche_Fantacalcio_Stagione_2023_24_Italia.xlsx',\n",
       " './data/Statistiche_Fantacalcio_Stagione_2023_24_Statistico.xlsx',\n",
       " './data/Statistiche_Fantacalcio_Stagione_2024_25.xlsx',\n",
       " './data/Statistiche_Fantacalcio_Stagione_2024_25_Italia.xlsx',\n",
       " './data/Statistiche_Fantacalcio_Stagione_2024_25_Statistico.xlsx']"
      ]
     },
     "execution_count": 3,
     "metadata": {},
     "output_type": "execute_result"
    }
   ],
   "source": [
    "filepaths"
   ]
  },
  {
   "cell_type": "markdown",
   "id": "8ad34515-6aa6-4710-8ee8-bba442cb6a16",
   "metadata": {},
   "source": [
    "# Prepare dataframe"
   ]
  },
  {
   "cell_type": "code",
   "execution_count": 4,
   "id": "3b69677f-888c-462f-9d2d-4084d571fc84",
   "metadata": {},
   "outputs": [],
   "source": [
    "df_list = list()\n",
    "for filepath in filepaths:\n",
    "    df = pd.read_excel(filepath, header=1)\n",
    "    df = df[df.R == mod]\n",
    "    if \"2024_25\" not in filepath:\n",
    "        # Filtro presenze no su anno corrente\n",
    "        pres = presenze\n",
    "    else:\n",
    "        pres = 2\n",
    "    df = df[df.Pv >= pres]\n",
    "    df_list.append(df)\n",
    "df = pd.concat(df_list)"
   ]
  },
  {
   "cell_type": "markdown",
   "id": "183680ac-f88c-4f8e-acf6-69799259f2a5",
   "metadata": {},
   "source": [
    "### Get only Fm, Mv, Nome and Pv"
   ]
  },
  {
   "cell_type": "code",
   "execution_count": 5,
   "id": "4e8587aa-da79-4fc2-8afc-837437c58e5f",
   "metadata": {},
   "outputs": [],
   "source": [
    "df_reduced = df[[\"Fm\", \"Mv\", \"Nome\", \"Pv\"]].copy()\n",
    "bonus = np.abs(df.Mv - df.Fm)\n",
    "df_reduced[\"Bonus\"] = bonus\n",
    "df_reduced.index = df.Nome\n",
    "del df_reduced[\"Nome\"], df_reduced[\"Fm\"]"
   ]
  },
  {
   "cell_type": "markdown",
   "id": "66f65711-e85b-4a72-9cb0-d7e7c154babe",
   "metadata": {},
   "source": [
    "### Remove players no more in serie A"
   ]
  },
  {
   "cell_type": "code",
   "execution_count": 6,
   "id": "a04b6bc1-d687-4a5a-bd14-7f1160ea5dff",
   "metadata": {},
   "outputs": [],
   "source": [
    "filpath_last = \"2024_25\"\n",
    "filepaths = glob.glob(f\"./data/*{filpath_last}.xlsx\")\n",
    "df_last_year = pd.read_excel(filepaths[0], header=1)\n",
    "df_last_year.index = df_last_year[\"Nome\"]\n",
    "players_to_remove = set(df_reduced.index).difference(set(df_last_year.index))"
   ]
  },
  {
   "cell_type": "markdown",
   "id": "c54a3cd7-5405-46e6-9bf4-369e44f37ba1",
   "metadata": {},
   "source": [
    "### Compute mean over different sources"
   ]
  },
  {
   "cell_type": "code",
   "execution_count": 7,
   "id": "0c3f1b23-bdf6-4b1d-b832-175313e2bd85",
   "metadata": {},
   "outputs": [],
   "source": [
    "to_group = [\"Bonus\", \"Mv\", \"Pv\"]\n",
    "by_row_index = df_reduced[to_group].groupby(df_reduced[to_group].index)\n",
    "df_means = by_row_index.mean()"
   ]
  },
  {
   "cell_type": "code",
   "execution_count": 8,
   "id": "5337c038-ed06-4084-acc6-1de6db04a82c",
   "metadata": {},
   "outputs": [],
   "source": [
    "df_means.drop(players_to_remove, inplace=True)"
   ]
  },
  {
   "cell_type": "markdown",
   "id": "85fe610c-7f68-4b31-8421-2851da700db1",
   "metadata": {},
   "source": [
    "# Scaling"
   ]
  },
  {
   "cell_type": "code",
   "execution_count": 9,
   "id": "0d76df1b-2efd-415b-8ca0-a5b5700454cc",
   "metadata": {},
   "outputs": [
    {
     "data": {
      "text/html": [
       "<div>\n",
       "<style scoped>\n",
       "    .dataframe tbody tr th:only-of-type {\n",
       "        vertical-align: middle;\n",
       "    }\n",
       "\n",
       "    .dataframe tbody tr th {\n",
       "        vertical-align: top;\n",
       "    }\n",
       "\n",
       "    .dataframe thead th {\n",
       "        text-align: right;\n",
       "    }\n",
       "</style>\n",
       "<table border=\"1\" class=\"dataframe\">\n",
       "  <thead>\n",
       "    <tr style=\"text-align: right;\">\n",
       "      <th></th>\n",
       "      <th>Bonus</th>\n",
       "      <th>Mv</th>\n",
       "      <th>Pv</th>\n",
       "    </tr>\n",
       "    <tr>\n",
       "      <th>Nome</th>\n",
       "      <th></th>\n",
       "      <th></th>\n",
       "      <th></th>\n",
       "    </tr>\n",
       "  </thead>\n",
       "  <tbody>\n",
       "    <tr>\n",
       "      <th>Caprile</th>\n",
       "      <td>1.040</td>\n",
       "      <td>6.273333</td>\n",
       "      <td>23.0</td>\n",
       "    </tr>\n",
       "    <tr>\n",
       "      <th>Carnesecchi</th>\n",
       "      <td>1.945</td>\n",
       "      <td>6.276667</td>\n",
       "      <td>14.5</td>\n",
       "    </tr>\n",
       "  </tbody>\n",
       "</table>\n",
       "</div>"
      ],
      "text/plain": [
       "             Bonus        Mv    Pv\n",
       "Nome                              \n",
       "Caprile      1.040  6.273333  23.0\n",
       "Carnesecchi  1.945  6.276667  14.5"
      ]
     },
     "execution_count": 9,
     "metadata": {},
     "output_type": "execute_result"
    }
   ],
   "source": [
    "df_means.head(2)"
   ]
  },
  {
   "cell_type": "code",
   "execution_count": 10,
   "id": "d83d5e7b-4ce6-4ee5-8cc5-985ae9c6447e",
   "metadata": {},
   "outputs": [],
   "source": [
    "scaler = sklearn.preprocessing.StandardScaler()\n",
    "df_reduced_min_max = scaler.fit_transform(df_means.drop(axis=1, columns=[\"Pv\"]))\n",
    "pca = sklearn.decomposition.PCA(n_components=2)\n",
    "X = pca.fit_transform(df_reduced_min_max)\n",
    "df_X = pd.DataFrame(X)\n",
    "df_X.index = df_means.index"
   ]
  },
  {
   "cell_type": "code",
   "execution_count": 11,
   "id": "620a2c74-8e1d-4298-8c0f-1598490c3a43",
   "metadata": {},
   "outputs": [
    {
     "data": {
      "text/plain": [
       "<matplotlib.collections.PathCollection at 0x7fd570e23310>"
      ]
     },
     "execution_count": 11,
     "metadata": {},
     "output_type": "execute_result"
    },
    {
     "data": {
      "image/png": "[encoded data removed]",
      "text/plain": [
       "<Figure size 640x480 with 1 Axes>"
      ]
     },
     "metadata": {},
     "output_type": "display_data"
    }
   ],
   "source": [
    "fig, ax = plt.subplots(1, 1)\n",
    "ax.scatter(df_X[0], df_X[1])"
   ]
  },
  {
   "cell_type": "markdown",
   "id": "cec5d273-04a1-4deb-beef-9ae791d3f1d6",
   "metadata": {},
   "source": [
    "# Outliers"
   ]
  },
  {
   "cell_type": "code",
   "execution_count": 12,
   "id": "ecca8ad4-bb5d-4f29-93c9-c0095d1f9a65",
   "metadata": {},
   "outputs": [],
   "source": [
    "# IQR\n",
    "# Calculate the upper and lower limits\n",
    "Q1 = df_X[0].quantile(0.25)\n",
    "Q3 = df_X[0].quantile(0.75)\n",
    "IQR = Q3 - Q1\n",
    "lower = Q1 - 1.5 * IQR\n",
    "upper = Q3 + 1.5 * IQR\n",
    "\n",
    "# Create arrays of Boolean values indicating the outlier rows\n",
    "upper_array_0 = np.where(df_X[0] >= upper)[0]\n",
    "lower_array_0 = np.where(df_X[0] <= lower)[0]\n",
    "\n",
    "Q1 = df_X[1].quantile(0.25)\n",
    "Q3 = df_X[1].quantile(0.75)\n",
    "IQR = Q3 - Q1\n",
    "lower = Q1 - 1.5 * IQR\n",
    "upper = Q3 + 1.5 * IQR\n",
    "\n",
    "# Create arrays of Boolean values indicating the outlier rows\n",
    "upper_array_1 = np.where(df_X[1] >= upper)[0]\n",
    "lower_array_1 = np.where(df_X[1] <= lower)[0]\n",
    "\n",
    "# Removing the outliers\n",
    "to_drop = df_X.index.values[np.concatenate((upper_array_0, \n",
    "                                            lower_array_0,\n",
    "                                            upper_array_1,\n",
    "                                            lower_array_1))]\n",
    "df_X_no_outliers = df_X.drop(index=to_drop)"
   ]
  },
  {
   "cell_type": "markdown",
   "id": "3447f7c6-6fb1-4ec9-b633-0b8dae1d6be1",
   "metadata": {},
   "source": [
    "# Clustering"
   ]
  },
  {
   "cell_type": "code",
   "execution_count": 13,
   "id": "e73b680d-a69f-4e1c-b572-f770c9a7fe96",
   "metadata": {},
   "outputs": [],
   "source": [
    "kmeans = sklearn.cluster.KMeans(n_clusters=3, random_state=0, n_init=\"auto\").fit(df_X_no_outliers)\n",
    "labels = kmeans.predict(df_X)"
   ]
  },
  {
   "cell_type": "code",
   "execution_count": 14,
   "id": "80e79e21-10d3-49a8-ad8c-0903842418c2",
   "metadata": {},
   "outputs": [
    {
     "data": {
      "image/png": "[encoded data removed]",
      "text/plain": [
       "<Figure size 640x480 with 1 Axes>"
      ]
     },
     "metadata": {},
     "output_type": "display_data"
    }
   ],
   "source": [
    "fig, ax = plt.subplots(1, 1)\n",
    "ax.scatter(df_X[0], df_X[1], c=labels)\n",
    "ax.set_xticks([])\n",
    "ax.set_yticks([]);"
   ]
  },
  {
   "cell_type": "code",
   "execution_count": 15,
   "id": "6a608614-0514-4400-96ad-00d587bc9a17",
   "metadata": {},
   "outputs": [],
   "source": [
    "pv_anno_corrente = [df_last_year.loc[index].Pv for index in df_means.index]\n",
    "mv_anno_corrente = [df_last_year.loc[index].Mv for index in df_means.index]\n",
    "fm_anno_corrente = [df_last_year.loc[index].Fm for index in df_means.index]\n",
    "squadra = [df_last_year.loc[index].Squadra for index in df_means.index]\n",
    "df_means[\"Fm-2024_25\"] = fm_anno_corrente\n",
    "df_means[\"Pv-2024_25\"] = pv_anno_corrente\n",
    "df_means[\"Squadra\"] = squadra\n",
    "df_means[\"Fascia\"] = labels"
   ]
  },
  {
   "cell_type": "markdown",
   "id": "ec0b0cae-562c-45dd-aa90-7d3ec62a399c",
   "metadata": {},
   "source": [
    "# Output"
   ]
  },
  {
   "cell_type": "code",
   "execution_count": 16,
   "id": "3acb856e-8ff3-42f5-93a7-fa3064049fb5",
   "metadata": {},
   "outputs": [],
   "source": [
    "df_means.sort_values(\"Fascia\", inplace=True)"
   ]
  },
  {
   "cell_type": "code",
   "execution_count": 17,
   "id": "65850746-e33f-4739-89e2-75299e8f28ae",
   "metadata": {},
   "outputs": [],
   "source": [
    "df_means.to_html(f\"./output/{mod}-{presenze}.html\")"
   ]
  },
  {
   "cell_type": "code",
   "execution_count": 18,
   "id": "5d94136f-db3d-429b-a271-276e4fd85b75",
   "metadata": {},
   "outputs": [
    {
     "name": "stdout",
     "output_type": "stream",
     "text": [
      "See ./output/P-10.html\n"
     ]
    }
   ],
   "source": [
    "str_out = f\"./output/{mod}-{presenze}.html\"\n",
    "print(f\"See {str_out}\")"
   ]
  }
 ],
 "metadata": {
  "kernelspec": {
   "display_name": "Python 3 (ipykernel)",
   "language": "python",
   "name": "python3"
  },
  "language_info": {
   "codemirror_mode": {
    "name": "ipython",
    "version": 3
   },
   "file_extension": ".py",
   "mimetype": "text/x-python",
   "name": "python",
   "nbconvert_exporter": "python",
   "pygments_lexer": "ipython3",
   "version": "3.8.10"
  }
 },
 "nbformat": 4,
 "nbformat_minor": 5
}
